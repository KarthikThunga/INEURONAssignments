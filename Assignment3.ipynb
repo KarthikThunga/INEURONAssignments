{
 "cells": [
  {
   "cell_type": "markdown",
   "metadata": {},
   "source": [
    "# Python Assignment-3"
   ]
  },
  {
   "cell_type": "markdown",
   "metadata": {},
   "source": [
    "\n",
    "1.1)Write a Python Program to implement your own myreduce() function which works exactly like Python's built-in function reduce()"
   ]
  },
  {
   "cell_type": "code",
   "execution_count": 24,
   "metadata": {},
   "outputs": [
    {
     "name": "stdout",
     "output_type": "stream",
     "text": [
      "1  *  2  =  2\n",
      "2  *  3  =  6\n",
      "6  *  4  =  24\n",
      "24  *  5  =  120\n",
      "Returned Value : 120\n"
     ]
    }
   ],
   "source": [
    "def my_reduce(function, iterable, initializer=None):\n",
    "    limit = iter(iterable)\n",
    "    if initializer is None:\n",
    "        value = next(limit)\n",
    "    else:\n",
    "        value = initializer\n",
    "    for element in limit:\n",
    "        value = function(value, element)\n",
    "    return value\n",
    "\n",
    "def my_mul(a, b):\n",
    "    '''This function returns result of given two numbers multiplication'''\n",
    "    result = a * b\n",
    "    print(a,' * ',b,' = ',result)\n",
    "    return result\n",
    "\n",
    "numbers = [1, 2, 3, 4, 5]\n",
    "print('Returned Value :',my_reduce(my_mul, numbers))"
   ]
  },
  {
   "cell_type": "markdown",
   "metadata": {},
   "source": [
    "1.2)Write a Python program to implement your own myfilter() function which works exactly like Python's built-in function filter()"
   ]
  },
  {
   "cell_type": "code",
   "execution_count": 25,
   "metadata": {},
   "outputs": [
    {
     "name": "stdout",
     "output_type": "stream",
     "text": [
      "The filtered vowels are: ['a', 'e', 'i']\n"
     ]
    }
   ],
   "source": [
    "def my_filter(function, iterable):\n",
    "    filtered_list=[]\n",
    "    for element in iterable:\n",
    "        filtered_list.append(element) if function(element) else False\n",
    "    return filtered_list\n",
    "\n",
    "def filterVowels(letter):\n",
    "    vowels = ['a', 'e', 'i', 'o', 'u']\n",
    "    if(letter in vowels):\n",
    "        return True\n",
    "\n",
    "letters=['a','e','k','f','g','i','l','p','h']\n",
    "print('The filtered vowels are:',my_filter(filterVowels, letters))"
   ]
  },
  {
   "cell_type": "markdown",
   "metadata": {},
   "source": [
    "\n",
    "2)Implement List comprehensions to produce the following lists. Write List comprehensions to produce the following Lists\n",
    "['A', 'C', 'A', 'D', 'G', 'I', ’L’, ‘ D’] \n",
    "['x', 'xx', 'xxx', 'xxxx', 'y', 'yy', 'yyy', 'yyyy', 'z', 'zz', 'zzz', 'zzzz']\n",
    "['x', 'y', 'z', 'xx', 'yy', 'zz', 'xxx', 'yyy', 'zzz', 'xxxx', 'yyyy', 'zzzz']\n",
    "[[2], [3], [4], [3], [4], [5], [4], [5], [6]]\n",
    "[[2, 3, 4, 5], [3, 4, 5, 6], [4, 5, 6, 7], [5, 6, 7, 8]] \n",
    "[(1, 1), (2, 1), (3, 1), (1, 2), (2, 2), (3, 2), (1, 3), (2, 3), (3, 3)]"
   ]
  },
  {
   "cell_type": "code",
   "execution_count": 26,
   "metadata": {},
   "outputs": [
    {
     "name": "stdout",
     "output_type": "stream",
     "text": [
      "Output:\n",
      "['A', 'C', 'A', 'D', 'G', 'I', 'L', 'D']\n",
      "['x', 'xx', 'xxx', 'xxxx', 'y', 'yy', 'yyy', 'yyyy', 'z', 'zz', 'zzz', 'zzzz']\n",
      "['x', 'y', 'z', 'xx', 'yy', 'zz', 'xxx', 'yyy', 'zzz', 'xxxx', 'yyyy', 'zzzz']\n",
      "[[2], [3], [4], [3], [4], [5], [4], [5], [6]]\n",
      "[[2, 3, 4, 5], [3, 4, 5, 6], [4, 5, 6, 7], [5, 6, 7, 8]]\n",
      "[(1, 1), (2, 1), (3, 1), (1, 2), (2, 2), (3, 2), (1, 3), (2, 3), (3, 3)]\n"
     ]
    }
   ],
   "source": [
    "word=\"ACADGILD\"\n",
    "output_1=[w for w in list(word)]\n",
    "print(\"Output:\")\n",
    "print(output_1)\n",
    "\n",
    "word_1=list('xyz')\n",
    "output_2=[w*n for w in word_1 for n in range(1,5)]\n",
    "print(output_2)\n",
    "\n",
    "output_3=[w*n for n in range(1,5) for w in word_1 ]\n",
    "print(output_3)\n",
    "\n",
    "number=[2,3,4]\n",
    "output_4=[[x+n] for x in number for n in range(0,3)]\n",
    "print(output_4)\n",
    "\n",
    "number_2=[2,3,4,5]\n",
    "output_5=[[x+n for n in range(0,4)] for x in number_2 ]\n",
    "print(output_5)\n",
    "\n",
    "number_4=[1,2,3]\n",
    "output_6= [(b,a) for a in number_4 for b in number_4]\n",
    "print(output_6)"
   ]
  }
 ],
 "metadata": {
  "kernelspec": {
   "display_name": "Python 3",
   "language": "python",
   "name": "python3"
  },
  "language_info": {
   "codemirror_mode": {
    "name": "ipython",
    "version": 3
   },
   "file_extension": ".py",
   "mimetype": "text/x-python",
   "name": "python",
   "nbconvert_exporter": "python",
   "pygments_lexer": "ipython3",
   "version": "3.7.9"
  }
 },
 "nbformat": 4,
 "nbformat_minor": 4
}
